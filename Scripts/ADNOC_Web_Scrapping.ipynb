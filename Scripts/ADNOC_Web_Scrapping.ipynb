{
 "cells": [
  {
   "cell_type": "markdown",
   "id": "0a41456e",
   "metadata": {},
   "source": [
    "Import Packages"
   ]
  },
  {
   "cell_type": "code",
   "execution_count": null,
   "id": "36a442ac0baf8ebe",
   "metadata": {
    "ExecuteTime": {
     "end_time": "2025-04-15T08:32:17.908077Z",
     "start_time": "2025-04-15T08:32:17.897499Z"
    }
   },
   "outputs": [],
   "source": [
    "from bs4 import BeautifulSoup\n",
    "import pandas as pd\n",
    "\n",
    "from selenium import webdriver\n",
    "from selenium.webdriver.support.ui import Select\n",
    "from selenium.webdriver.common.by import By\n",
    "from selenium.webdriver.support.ui import WebDriverWait\n",
    "from selenium.webdriver.support import expected_conditions as EC\n",
    "from selenium.common.exceptions import TimeoutException\n",
    "import time"
   ]
  },
  {
   "cell_type": "markdown",
   "id": "c2f4e861",
   "metadata": {},
   "source": [
    "Define Scrapping Function"
   ]
  },
  {
   "cell_type": "code",
   "execution_count": null,
   "id": "54d1b6ba",
   "metadata": {},
   "outputs": [],
   "source": [
    "# ADNOC Scrapping Function\n",
    "def scrape_station_data(driver, region_name, filename):\n",
    "    print(\"ok go\")\n",
    "    # Get HTML from the loaded browser session\n",
    "    html = driver.page_source\n",
    "    soup = BeautifulSoup(html, 'html.parser')\n",
    "\n",
    "    stations = []\n",
    "    station_blocks = soup.find_all(\"div\", class_=\"station-map__inner-wrapper\")\n",
    "\n",
    "    for block in station_blocks:\n",
    "        try:\n",
    "            h6_tag = block.find(\"h6\", class_=\"trigger-showOnMap\")\n",
    "            name = h6_tag.text.strip()\n",
    "            lat = h6_tag.get(\"data-latitude\")\n",
    "            lon = h6_tag.get(\"data-longitude\")\n",
    "            station_id = h6_tag.get(\"data-id\")\n",
    "\n",
    "            address_tag = block.find(\"p\", class_=\"station-map__text\")\n",
    "            address = address_tag.text.strip() if address_tag else \"\"\n",
    "\n",
    "            services_list = block.find(\"ul\", class_=\"station-map__list\")\n",
    "            services = []\n",
    "            if services_list:\n",
    "                for item in services_list.find_all(\"li\", class_=\"station-map__item\"):\n",
    "                    services.append(item.get_text(strip=True))\n",
    "\n",
    "            distance_tag = block.find(\"span\", class_=\"station-map__time-span\")\n",
    "            distance = distance_tag.text.strip() if distance_tag else \"\"\n",
    "\n",
    "            directions_link = \"\"\n",
    "            directions_tag = block.find(\"a\", class_=\"station-map__btn-direction\")\n",
    "            if directions_tag and directions_tag.has_attr(\"href\"):\n",
    "                directions_link = directions_tag[\"href\"]\n",
    "\n",
    "            stations.append({\n",
    "                \"Station Name\": name,\n",
    "                \"Latitude\": lat,\n",
    "                \"Longitude\": lon,\n",
    "                \"Address\": address,\n",
    "                \"Services\": \", \".join(services),\n",
    "                \"Distance\": distance,\n",
    "                \"Station ID\": station_id,\n",
    "                \"Google Maps URL\": directions_link,\n",
    "                \"Region\": region_name\n",
    "            })\n",
    "\n",
    "        except Exception as e:\n",
    "            print(f\"Error parsing a block: {e}\")\n",
    "\n",
    "    # Save to Excel\n",
    "    df = pd.DataFrame(stations)\n",
    "    df.to_excel(filename, index=False)\n",
    "    print(f\"Saved to {filename}\")"
   ]
  },
  {
   "cell_type": "code",
   "execution_count": null,
   "id": "cbda012480476777",
   "metadata": {
    "ExecuteTime": {
     "end_time": "2025-04-15T08:32:39.979070Z",
     "start_time": "2025-04-15T08:32:18.949903Z"
    }
   },
   "outputs": [
    {
     "name": "stdout",
     "output_type": "stream",
     "text": [
      "Selected region: Abu Dhabi with value: 1ACBB48FA33649FF902E28FB4F8A7F9B\n",
      "Clicked the search button via JS.\n",
      "Station data for 'Abu Dhabi' loaded successfully.\n",
      "ok go\n",
      "Saved to ../Data/Selenium_Data/Abudhabi_Adnoc415.xlsx\n"
     ]
    }
   ],
   "source": [
    "# Define the region name {\"Abu Dhabi\", \"Al Ain\", \"Al Dhafra\"}\n",
    "region_name = \"Abu Dhabi\"\n",
    "\n",
    "# Define the filename output\n",
    "filename = \"../Data/ADNOC_Scrapping/Abudhabi_Adnoc.xlsx\"\n",
    "\n",
    "# Start Chrome session\n",
    "driver = webdriver.Chrome()\n",
    "driver.get(\"https://www.adnocdistribution.ae/en/find-station?Latitude=25.788335&Longtitude&=55.96424&Keyword=&Region=&Services=\")\n",
    "driver.maximize_window()\n",
    "\n",
    "# Wait for the dropdown to be present\n",
    "wait = WebDriverWait(driver, 10)\n",
    "dropdown_element = wait.until(EC.presence_of_element_located((By.CLASS_NAME, \"options-region\")))\n",
    "\n",
    "# Create a Select object\n",
    "select = Select(dropdown_element)\n",
    "\n",
    "# Find the value that matches the visible region name\n",
    "value_to_select = None\n",
    "for option in select.options:\n",
    "    if option.text.strip().lower() == region_name.lower():\n",
    "        value_to_select = option.get_attribute(\"value\")\n",
    "        break\n",
    "\n",
    "if value_to_select:\n",
    "    select.select_by_value(value_to_select)\n",
    "    print(f\"Selected region: {region_name} with value: {value_to_select}\")\n",
    "else:\n",
    "    print(f\"Region '{region_name}' not found in dropdown.\")\n",
    "    driver.quit()\n",
    "    exit()\n",
    "\n",
    "# Give a brief pause after selecting the region (to avoid layout shift issues)\n",
    "time.sleep(1)\n",
    "\n",
    "# Re-fetch the button again (it may be re-rendered or moved)\n",
    "search_button = wait.until(EC.presence_of_element_located((By.ID, \"btnSearchLocations\")))\n",
    "\n",
    "# Scroll to it again (safe practice in case DOM reflowed)\n",
    "driver.execute_script(\"arguments[0].scrollIntoView({block: 'center'});\", search_button)\n",
    "\n",
    "# Optional: brief pause to let any layout animations finish\n",
    "time.sleep(2)\n",
    "\n",
    "# Click via JavaScript (bypasses interception from overlays)\n",
    "driver.execute_script(\"arguments[0].click();\", search_button)\n",
    "print(\"Clicked the search button via JS.\")\n",
    "\n",
    "\n",
    "# Detect content refresh\n",
    "try:\n",
    "    old_station = driver.find_element(By.CLASS_NAME, \"station-map__inner-wrapper\")\n",
    "except:\n",
    "    old_station = None\n",
    "\n",
    "# Wait for the old station list to disappear\n",
    "if old_station:\n",
    "    try:\n",
    "        wait.until(EC.staleness_of(old_station))\n",
    "    except TimeoutException:\n",
    "        print(\"Old content did not disappear. Proceeding anyway.\")\n",
    "\n",
    "# Wait for new filtered results\n",
    "try:\n",
    "    wait.until(EC.presence_of_element_located((By.CLASS_NAME, \"station-map__inner-wrapper\")))\n",
    "    print(f\"Station data for '{region_name}' loaded successfully.\")\n",
    "except TimeoutException:\n",
    "    print(\"Timeout while waiting for region-specific data to load.\")\n",
    "\n",
    "# Call the scraping function (now that the page is loaded)\n",
    "scrape_station_data(driver, region_name, filename)\n",
    "\n",
    "# Close the driver\n",
    "driver.quit()\n"
   ]
  }
 ],
 "metadata": {
  "kernelspec": {
   "display_name": "Python 3",
   "language": "python",
   "name": "python3"
  },
  "language_info": {
   "codemirror_mode": {
    "name": "ipython",
    "version": 2
   },
   "file_extension": ".py",
   "mimetype": "text/x-python",
   "name": "python",
   "nbconvert_exporter": "python",
   "pygments_lexer": "ipython2",
   "version": "2.7.6"
  }
 },
 "nbformat": 4,
 "nbformat_minor": 5
}
