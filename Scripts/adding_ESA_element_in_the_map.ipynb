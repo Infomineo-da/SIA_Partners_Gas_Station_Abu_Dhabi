{
 "cells": [
  {
   "cell_type": "markdown",
   "metadata": {},
   "source": [
    "Import Packages"
   ]
  },
  {
   "cell_type": "code",
   "execution_count": null,
   "metadata": {},
   "outputs": [],
   "source": [
    "import folium\n",
    "import geopandas as gpd\n",
    "import rasterio\n",
    "from rasterio.mask import mask\n",
    "from rasterio import Affine\n",
    "from rasterio.features import shapes\n",
    "from shapely.geometry import shape, box, Polygon, LineString, MultiLineString\n",
    "import numpy as np\n",
    "from PIL import Image\n",
    "from io import BytesIO\n",
    "import base64\n",
    "import os\n",
    "import warnings\n",
    "\n",
    "warnings.filterwarnings('ignore')"
   ]
  },
  {
   "cell_type": "markdown",
   "metadata": {},
   "source": [
    "Load Abu Dhabi Shapefile (Admin Level 3)"
   ]
  },
  {
   "cell_type": "code",
   "execution_count": 2,
   "metadata": {},
   "outputs": [
    {
     "name": "stdout",
     "output_type": "stream",
     "text": [
      "Columns :  ['GID_3', 'GID_0', 'COUNTRY', 'GID_1', 'NAME_1', 'NL_NAME_1', 'GID_2', 'NAME_2', 'NL_NAME_2', 'NAME_3', 'VARNAME_3', 'NL_NAME_3', 'TYPE_3', 'ENGTYPE_3', 'CC_3', 'HASC_3', 'geometry']\n"
     ]
    }
   ],
   "source": [
    "# Load the shapefile using GeoPandas\n",
    "data_folder = \"../Data/UAE_Shapefile/gadm41_ARE_shp\"\n",
    "shapefile_name = \"gadm41_ARE_3.shp\"\n",
    "shapefile_path = os.path.join(data_folder, shapefile_name)\n",
    "gdf = gpd.read_file(shapefile_path)\n",
    "print(\"Columns : \", gdf.columns.tolist())"
   ]
  },
  {
   "cell_type": "markdown",
   "metadata": {},
   "source": [
    "Filter for Abu Dhabi Region"
   ]
  },
  {
   "cell_type": "code",
   "execution_count": 3,
   "metadata": {},
   "outputs": [
    {
     "name": "stdout",
     "output_type": "stream",
     "text": [
      "Shape: (125, 17)\n"
     ]
    },
    {
     "data": {
      "text/html": [
       "<div>\n",
       "<style scoped>\n",
       "    .dataframe tbody tr th:only-of-type {\n",
       "        vertical-align: middle;\n",
       "    }\n",
       "\n",
       "    .dataframe tbody tr th {\n",
       "        vertical-align: top;\n",
       "    }\n",
       "\n",
       "    .dataframe thead th {\n",
       "        text-align: right;\n",
       "    }\n",
       "</style>\n",
       "<table border=\"1\" class=\"dataframe\">\n",
       "  <thead>\n",
       "    <tr style=\"text-align: right;\">\n",
       "      <th></th>\n",
       "      <th>GID_3</th>\n",
       "      <th>GID_0</th>\n",
       "      <th>COUNTRY</th>\n",
       "      <th>GID_1</th>\n",
       "      <th>NAME_1</th>\n",
       "      <th>NL_NAME_1</th>\n",
       "      <th>GID_2</th>\n",
       "      <th>NAME_2</th>\n",
       "      <th>NL_NAME_2</th>\n",
       "      <th>NAME_3</th>\n",
       "      <th>VARNAME_3</th>\n",
       "      <th>NL_NAME_3</th>\n",
       "      <th>TYPE_3</th>\n",
       "      <th>ENGTYPE_3</th>\n",
       "      <th>CC_3</th>\n",
       "      <th>HASC_3</th>\n",
       "      <th>geometry</th>\n",
       "    </tr>\n",
       "  </thead>\n",
       "  <tbody>\n",
       "    <tr>\n",
       "      <th>0</th>\n",
       "      <td>ARE.1.1.2_1</td>\n",
       "      <td>ARE</td>\n",
       "      <td>United Arab Emirates</td>\n",
       "      <td>ARE.1_1</td>\n",
       "      <td>Abu Dhabi</td>\n",
       "      <td>إمارة أبوظبي</td>\n",
       "      <td>ARE.1.1_1</td>\n",
       "      <td>Abu Dhabi</td>\n",
       "      <td>أبو ظبي</td>\n",
       "      <td>Abu Al Abyad</td>\n",
       "      <td>NA</td>\n",
       "      <td>NA</td>\n",
       "      <td>Municipality</td>\n",
       "      <td>Municipality</td>\n",
       "      <td>NA</td>\n",
       "      <td>NA</td>\n",
       "      <td>MULTIPOLYGON (((53.87441 24.26483, 53.87717 24...</td>\n",
       "    </tr>\n",
       "    <tr>\n",
       "      <th>1</th>\n",
       "      <td>ARE.1.1.3_1</td>\n",
       "      <td>ARE</td>\n",
       "      <td>United Arab Emirates</td>\n",
       "      <td>ARE.1_1</td>\n",
       "      <td>Abu Dhabi</td>\n",
       "      <td>إمارة أبوظبي</td>\n",
       "      <td>ARE.1.1_1</td>\n",
       "      <td>Abu Dhabi</td>\n",
       "      <td>أبو ظبي</td>\n",
       "      <td>Abu Dhabi Island</td>\n",
       "      <td>NA</td>\n",
       "      <td>NA</td>\n",
       "      <td>Municipality</td>\n",
       "      <td>Municipality</td>\n",
       "      <td>NA</td>\n",
       "      <td>NA</td>\n",
       "      <td>MULTIPOLYGON (((54.28496 24.4461, 54.28496 24....</td>\n",
       "    </tr>\n",
       "    <tr>\n",
       "      <th>2</th>\n",
       "      <td>ARE.1.1.4_1</td>\n",
       "      <td>ARE</td>\n",
       "      <td>United Arab Emirates</td>\n",
       "      <td>ARE.1_1</td>\n",
       "      <td>Abu Dhabi</td>\n",
       "      <td>إمارة أبوظبي</td>\n",
       "      <td>ARE.1.1_1</td>\n",
       "      <td>Abu Dhabi</td>\n",
       "      <td>أبو ظبي</td>\n",
       "      <td>Airport District</td>\n",
       "      <td>NA</td>\n",
       "      <td>NA</td>\n",
       "      <td>Municipality</td>\n",
       "      <td>Municipality</td>\n",
       "      <td>NA</td>\n",
       "      <td>NA</td>\n",
       "      <td>POLYGON ((54.61171 24.45358, 54.61182 24.45385...</td>\n",
       "    </tr>\n",
       "    <tr>\n",
       "      <th>3</th>\n",
       "      <td>ARE.1.1.5_1</td>\n",
       "      <td>ARE</td>\n",
       "      <td>United Arab Emirates</td>\n",
       "      <td>ARE.1_1</td>\n",
       "      <td>Abu Dhabi</td>\n",
       "      <td>إمارة أبوظبي</td>\n",
       "      <td>ARE.1.1_1</td>\n",
       "      <td>Abu Dhabi</td>\n",
       "      <td>أبو ظبي</td>\n",
       "      <td>Al Falah</td>\n",
       "      <td>NA</td>\n",
       "      <td>NA</td>\n",
       "      <td>Municipality</td>\n",
       "      <td>Municipality</td>\n",
       "      <td>NA</td>\n",
       "      <td>NA</td>\n",
       "      <td>POLYGON ((54.67202 24.40866, 54.67627 24.41914...</td>\n",
       "    </tr>\n",
       "    <tr>\n",
       "      <th>4</th>\n",
       "      <td>ARE.1.1.6_1</td>\n",
       "      <td>ARE</td>\n",
       "      <td>United Arab Emirates</td>\n",
       "      <td>ARE.1_1</td>\n",
       "      <td>Abu Dhabi</td>\n",
       "      <td>إمارة أبوظبي</td>\n",
       "      <td>ARE.1.1_1</td>\n",
       "      <td>Abu Dhabi</td>\n",
       "      <td>أبو ظبي</td>\n",
       "      <td>Al Jubail Island</td>\n",
       "      <td>NA</td>\n",
       "      <td>NA</td>\n",
       "      <td>Municipality</td>\n",
       "      <td>Municipality</td>\n",
       "      <td>NA</td>\n",
       "      <td>NA</td>\n",
       "      <td>POLYGON ((54.52723 24.51838, 54.52185 24.51998...</td>\n",
       "    </tr>\n",
       "  </tbody>\n",
       "</table>\n",
       "</div>"
      ],
      "text/plain": [
       "         GID_3 GID_0               COUNTRY    GID_1     NAME_1     NL_NAME_1  \\\n",
       "0  ARE.1.1.2_1   ARE  United Arab Emirates  ARE.1_1  Abu Dhabi  إمارة أبوظبي   \n",
       "1  ARE.1.1.3_1   ARE  United Arab Emirates  ARE.1_1  Abu Dhabi  إمارة أبوظبي   \n",
       "2  ARE.1.1.4_1   ARE  United Arab Emirates  ARE.1_1  Abu Dhabi  إمارة أبوظبي   \n",
       "3  ARE.1.1.5_1   ARE  United Arab Emirates  ARE.1_1  Abu Dhabi  إمارة أبوظبي   \n",
       "4  ARE.1.1.6_1   ARE  United Arab Emirates  ARE.1_1  Abu Dhabi  إمارة أبوظبي   \n",
       "\n",
       "       GID_2     NAME_2 NL_NAME_2            NAME_3 VARNAME_3 NL_NAME_3  \\\n",
       "0  ARE.1.1_1  Abu Dhabi   أبو ظبي      Abu Al Abyad        NA        NA   \n",
       "1  ARE.1.1_1  Abu Dhabi   أبو ظبي  Abu Dhabi Island        NA        NA   \n",
       "2  ARE.1.1_1  Abu Dhabi   أبو ظبي  Airport District        NA        NA   \n",
       "3  ARE.1.1_1  Abu Dhabi   أبو ظبي          Al Falah        NA        NA   \n",
       "4  ARE.1.1_1  Abu Dhabi   أبو ظبي  Al Jubail Island        NA        NA   \n",
       "\n",
       "         TYPE_3     ENGTYPE_3 CC_3 HASC_3  \\\n",
       "0  Municipality  Municipality   NA     NA   \n",
       "1  Municipality  Municipality   NA     NA   \n",
       "2  Municipality  Municipality   NA     NA   \n",
       "3  Municipality  Municipality   NA     NA   \n",
       "4  Municipality  Municipality   NA     NA   \n",
       "\n",
       "                                            geometry  \n",
       "0  MULTIPOLYGON (((53.87441 24.26483, 53.87717 24...  \n",
       "1  MULTIPOLYGON (((54.28496 24.4461, 54.28496 24....  \n",
       "2  POLYGON ((54.61171 24.45358, 54.61182 24.45385...  \n",
       "3  POLYGON ((54.67202 24.40866, 54.67627 24.41914...  \n",
       "4  POLYGON ((54.52723 24.51838, 54.52185 24.51998...  "
      ]
     },
     "execution_count": 3,
     "metadata": {},
     "output_type": "execute_result"
    }
   ],
   "source": [
    "# Abu Dhabi City\n",
    "abu_dhabi_gdf = gdf[gdf[\"NAME_1\"] == \"Abu Dhabi\"]\n",
    "print(f\"Shape: {abu_dhabi_gdf.shape}\")\n",
    "abu_dhabi_gdf.head(5)"
   ]
  },
  {
   "cell_type": "markdown",
   "metadata": {},
   "source": [
    "Calculate the Midpoint Coordinates"
   ]
  },
  {
   "cell_type": "code",
   "execution_count": 4,
   "metadata": {},
   "outputs": [
    {
     "name": "stdout",
     "output_type": "stream",
     "text": [
      "Overall Bounding Box for KSA Polygons:\n",
      "  SW corner (lat, lon): (22.631621401000018, 51.49797800000016)\n",
      "  NE corner (lat, lon): (25.252622605000056, 56.018131256000174)\n"
     ]
    }
   ],
   "source": [
    "# total_bounds → (minx, miny, maxx, maxy) for the entire GeoDataFrame\n",
    "minx, miny, maxx, maxy = abu_dhabi_gdf.total_bounds\n",
    "\n",
    "# x corresponds to longitude, y corresponds to latitude\n",
    "sw_lat = miny  # southernmost lat\n",
    "sw_lon = minx  # westernmost lon\n",
    "ne_lat = maxy  # northernmost lat\n",
    "ne_lon = maxx  # easternmost lon\n",
    "\n",
    "print(\"Overall Bounding Box for KSA Polygons:\")\n",
    "print(f\"  SW corner (lat, lon): ({sw_lat}, {sw_lon})\")\n",
    "print(f\"  NE corner (lat, lon): ({ne_lat}, {ne_lon})\")\n",
    "\n",
    "# Calculate midpoint coordinates\n",
    "mid_lat = (sw_lat + ne_lat) / 2\n",
    "mid_lon = (sw_lon + ne_lon) / 2"
   ]
  },
  {
   "cell_type": "markdown",
   "metadata": {},
   "source": [
    "Load and Mask the TIF file -Doesn't cover all Abu Dhabi Regions"
   ]
  },
  {
   "cell_type": "code",
   "execution_count": 19,
   "metadata": {},
   "outputs": [],
   "source": [
    "# Set the TIF file path\n",
    "tif_path = \"../Data/UAE_Shapefile/terrascope_download/WORLDCOVER/ESA_WORLDCOVER_10M_2021_V200/MAP/ESA_WorldCover_10m_2021_v200_N24E054_Map/ESA_WorldCover_10m_2021_v200_N24E054_Map.tif\"\n",
    "\n",
    "# Load it\n",
    "with rasterio.open(tif_path) as src:\n",
    "    # Reproject GeoDataFrame to match raster CRS\n",
    "    abu_dhabi_gdf = abu_dhabi_gdf.to_crs(src.crs)\n",
    "\n",
    "    # Mask the raster using the Abu Dhabi boundary\n",
    "    out_image, out_transform = mask(src, abu_dhabi_gdf.geometry, crop=True)\n",
    "    out_meta = src.meta.copy()\n",
    "\n",
    "# ESA Code for built-up area is 50\n",
    "built_up_mask = (out_image[0] == 50).astype(np.uint8) * 255  # Binary mask\n",
    "\n",
    "# Convert the mask to an RGBA image (red color for built-up)\n",
    "rgba = np.zeros((built_up_mask.shape[0], built_up_mask.shape[1], 4), dtype=np.uint8)\n",
    "rgba[..., 0] = 255               # Red\n",
    "rgba[..., 3] = built_up_mask     # Alpha channel: only show where built-up\n",
    "\n",
    "# Convert to PIL image\n",
    "image = Image.fromarray(rgba, mode='RGBA')\n",
    "\n",
    "# Convert the image to base64 to embed in HTML\n",
    "buffered = BytesIO()\n",
    "image.save(buffered, format=\"PNG\")\n",
    "encoded = base64.b64encode(buffered.getvalue()).decode()\n",
    "\n",
    "# Get bounds in lat/lon for folium image overlay\n",
    "with rasterio.open(tif_path) as src:\n",
    "    bounds = rasterio.transform.array_bounds(built_up_mask.shape[0], built_up_mask.shape[1], out_transform)\n",
    "    bbox = rasterio.warp.transform_bounds(src.crs, 'EPSG:4326', *bounds)  # (minx, miny, maxx, maxy)"
   ]
  },
  {
   "cell_type": "markdown",
   "metadata": {},
   "source": [
    "Create Folium Map"
   ]
  },
  {
   "cell_type": "code",
   "execution_count": 20,
   "metadata": {},
   "outputs": [
    {
     "data": {
      "text/plain": [
       "<folium.map.LayerControl at 0x243e4c3f830>"
      ]
     },
     "execution_count": 20,
     "metadata": {},
     "output_type": "execute_result"
    }
   ],
   "source": [
    "# Create a cartodb folium map\n",
    "m = folium.Map(location=[mid_lat, mid_lon], zoom_start=9, tiles='cartodbpositron')\n",
    "\n",
    "# Add Abu Dhabi boundary\n",
    "folium.GeoJson(\n",
    "    data=abu_dhabi_gdf.to_crs(\"EPSG:4326\"),\n",
    "    name='Abu Dhabi Boundary',\n",
    "    style_function=lambda feature: {\n",
    "        'fillColor': 'blue',\n",
    "        'color': 'blue',\n",
    "        'weight': 2,\n",
    "        'fillOpacity': 0.1,\n",
    "    },\n",
    "    tooltip=folium.GeoJsonTooltip(\n",
    "        fields=['NAME_3'],\n",
    "        aliases=['District: '],\n",
    "        localize=True\n",
    "    )\n",
    ").add_to(m)\n",
    "\n",
    "# Add the built-up overlay\n",
    "folium.raster_layers.ImageOverlay(\n",
    "    image='data:image/png;base64,' + encoded,\n",
    "    bounds=[[bbox[1], bbox[0]], [bbox[3], bbox[2]]],  # [[south, west], [north, east]]\n",
    "    opacity=0.6,\n",
    "    name='ESA Built-up Areas'\n",
    ").add_to(m)\n",
    "\n",
    "# Add Layer control\n",
    "folium.LayerControl().add_to(m)"
   ]
  },
  {
   "cell_type": "markdown",
   "metadata": {},
   "source": [
    "Save the map"
   ]
  },
  {
   "cell_type": "code",
   "execution_count": 21,
   "metadata": {},
   "outputs": [
    {
     "name": "stdout",
     "output_type": "stream",
     "text": [
      "Map saved to ../Data/Maps/abu_dhabi_built_up_map.html\n"
     ]
    }
   ],
   "source": [
    "# Save map\n",
    "output_map = '../Data/Maps/abu_dhabi_built_up_map.html'\n",
    "m.save(output_map)\n",
    "print(f\"Map saved to {output_map}\")"
   ]
  },
  {
   "cell_type": "markdown",
   "metadata": {},
   "source": [
    "Combine all TIF files of UAE to cover all Abu Dhabi boundaries"
   ]
  },
  {
   "cell_type": "code",
   "execution_count": null,
   "metadata": {},
   "outputs": [],
   "source": [
    "# Get the polygon\n",
    "abu_dhabi_geom = abu_dhabi_gdf.unary_union"
   ]
  },
  {
   "cell_type": "code",
   "execution_count": null,
   "metadata": {},
   "outputs": [],
   "source": [
    "# Set the TIF folder that cointain all TIF files\n",
    "tif_folder = \"../Data/ESA_TIF\"\n",
    "tif_files = [\n",
    "    os.path.join(root, file)\n",
    "    for root, dirs, files in os.walk(tif_folder)\n",
    "    for file in files\n",
    "    if file.lower().endswith(\"map.tif\")\n",
    "]\n",
    "\n",
    "built_up_polygons = []\n",
    "\n",
    "# Helper to check raster intersection\n",
    "def raster_intersects(src, geom):\n",
    "    raster_bounds = box(*src.bounds)\n",
    "    return geom.intersects(raster_bounds)\n",
    "\n",
    "# Downsample function\n",
    "def downsample_raster(image, factor=2):\n",
    "    return image[::factor, ::factor]\n",
    "\n",
    "# Simplify polygons\n",
    "def simplify_geometry(geom, tolerance=0.01):\n",
    "    if isinstance(geom, Polygon):\n",
    "        return geom.simplify(tolerance, preserve_topology=True)\n",
    "    return geom\n",
    "\n",
    "for tif_path in tif_files:\n",
    "    with rasterio.open(tif_path) as src:\n",
    "        # Make sure the raster intersects Abu Dhabi\n",
    "        if not raster_intersects(src, abu_dhabi_geom):\n",
    "            continue\n",
    "\n",
    "        try:\n",
    "            out_image, out_transform = mask(src, [abu_dhabi_geom], crop=True)\n",
    "            out_image = out_image[0]\n",
    "\n",
    "            # Downsample\n",
    "            factor = 4\n",
    "            downsampled_image = downsample_raster(out_image, factor=factor)\n",
    "\n",
    "            # Fix the transform scaling\n",
    "            downsampled_transform = out_transform * Affine.scale(factor, factor)\n",
    "\n",
    "            # Extract shapes\n",
    "            for geom_val, val in shapes(\n",
    "                    downsampled_image,\n",
    "                    mask=(downsampled_image == 50),\n",
    "                    transform=downsampled_transform\n",
    "            ):\n",
    "                if val == 50:\n",
    "                    poly = shape(geom_val)\n",
    "\n",
    "                    # Filter out tiny polygons\n",
    "                    if poly.area < 1e-7:\n",
    "                        continue\n",
    "\n",
    "                    # Simplify geometry more aggressively\n",
    "                    poly_simpl = simplify_geometry(poly, tolerance=0.01)\n",
    "                    built_up_polygons.append(poly_simpl)\n",
    "\n",
    "        except Exception as e:\n",
    "            print(f\"Failed to process {tif_path}: {e}\")\n",
    "\n",
    "# Convert to a GeoDataFrame\n",
    "built_up_gdf = gpd.GeoDataFrame(geometry=built_up_polygons, crs=\"EPSG:4326\")  # or the actual CRS if different"
   ]
  },
  {
   "cell_type": "markdown",
   "metadata": {},
   "source": [
    "Build Folium map to display the Built-Up Areas"
   ]
  },
  {
   "cell_type": "code",
   "execution_count": null,
   "metadata": {},
   "outputs": [],
   "source": [
    "# Build Folium map to display the Built-Up Areas\n",
    "center = abu_dhabi_gdf.geometry.centroid.iloc[0]\n",
    "m = folium.Map(location=[center.y, center.x], zoom_start=9, tiles='cartodbpositron')\n",
    "\n",
    "# Add built-up polygons\n",
    "folium.GeoJson(\n",
    "    built_up_gdf.__geo_interface__,\n",
    "    name=\"Built-Up Areas\",\n",
    "    style_function=lambda x: {'fillColor': 'red', 'color': 'red', 'weight': 1, 'fillOpacity': 0.5}\n",
    ").add_to(m)\n",
    "\n",
    "# Add Abu Dhabi boundary\n",
    "folium.GeoJson(\n",
    "    abu_dhabi_gdf.__geo_interface__,\n",
    "    name=\"Abu Dhabi Boundary\",\n",
    "    style_function=lambda x: {'color': 'blue', 'weight': 2, 'fillOpacity': 0}\n",
    ").add_to(m)\n",
    "\n",
    "folium.LayerControl(collapsed=False).add_to(m)\n",
    "m.save(\"../Data/Maps/built_up_areas_map_lightweight.html\")"
   ]
  }
 ],
 "metadata": {
  "kernelspec": {
   "display_name": "base",
   "language": "python",
   "name": "python3"
  },
  "language_info": {
   "codemirror_mode": {
    "name": "ipython",
    "version": 3
   },
   "file_extension": ".py",
   "mimetype": "text/x-python",
   "name": "python",
   "nbconvert_exporter": "python",
   "pygments_lexer": "ipython3",
   "version": "3.12.7"
  }
 },
 "nbformat": 4,
 "nbformat_minor": 2
}
